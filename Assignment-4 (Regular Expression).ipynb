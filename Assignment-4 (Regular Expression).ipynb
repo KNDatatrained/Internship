{
 "cells": [
  {
   "cell_type": "code",
   "execution_count": 15,
   "id": "054b7e11",
   "metadata": {},
   "outputs": [
    {
     "name": "stdout",
     "output_type": "stream",
     "text": [
      "Python:Exercises::PHP:exercises:\n"
     ]
    }
   ],
   "source": [
    "#Question 1- Write a Python program to replace all occurrences of a space, comma, or dot with a colon.\n",
    "import re\n",
    "string='Python Exercises, PHP exercises.'\n",
    "result=re.sub(r'\\W',':',string)\n",
    "print(result)\n"
   ]
  },
  {
   "cell_type": "code",
   "execution_count": 1,
   "id": "fad6472e",
   "metadata": {},
   "outputs": [
    {
     "name": "stdout",
     "output_type": "stream",
     "text": [
      "['abhiishek', 'and', 'abhinav']\n"
     ]
    }
   ],
   "source": [
    "#Question 2-  Write a Python program to find all words starting with 'a' or 'e' in a given string.\n",
    "import re\n",
    "string='abhiishek and abhinav hell heaven elasticity'\n",
    "pattern=r'\\b[aE]\\w*'\n",
    "result=re.findall(pattern,string)\n",
    "print(result)\n",
    "\n",
    "\n",
    "\n"
   ]
  },
  {
   "cell_type": "code",
   "execution_count": 2,
   "id": "d7a0af9b",
   "metadata": {},
   "outputs": [
    {
     "name": "stdout",
     "output_type": "stream",
     "text": [
      "['data', 'scientists', 'studies', 'previous', 'data', 'predict', 'future']\n"
     ]
    }
   ],
   "source": [
    "#Question 3- Create a function in python to find all words that are at least 4 characters long in a string.\n",
    "#The use of the re.compile() method is mandatory.\n",
    "import re\n",
    "string='we are data scientists who studies the previous data and predict the future'\n",
    "pattern=re.compile(r'\\b\\w{4,}\\b')\n",
    "result=re.findall(pattern,string)\n",
    "print(result)\n"
   ]
  },
  {
   "cell_type": "code",
   "execution_count": 50,
   "id": "47c82031",
   "metadata": {},
   "outputs": [
    {
     "name": "stdout",
     "output_type": "stream",
     "text": [
      "['will', 'live', 'and', 'life']\n"
     ]
    }
   ],
   "source": [
    "# Question 4- Create a function in python to find all three, four, and five character words in a string.\n",
    "#The use of the re.compile() method is mandatory.\n",
    "import re\n",
    "string = 'we will live a healthy and prosperous life.'\n",
    "pattern =re.compile(r'\\b\\w{3,5}\\b')\n",
    "result= re.findall(pattern, string)\n",
    "print (result)"
   ]
  },
  {
   "cell_type": "code",
   "execution_count": 53,
   "id": "25deb5b6",
   "metadata": {},
   "outputs": [
    {
     "name": "stdout",
     "output_type": "stream",
     "text": [
      "[“example  .com ”, “hr@fliprobo  .com ”, “github  .com ”, “Hello  Data Science World ”,“Data  Scientist ”]\n"
     ]
    }
   ],
   "source": [
    "#Question-5) Create a function in Python to remove the parenthesis in a list of strings. The use of the re.compile() method is mandatory\n",
    "import re\n",
    "string = '[“example (.com)”, “hr@fliprobo (.com)”, “github (.com)”, “Hello (Data Science World)”,“Data (Scientist)”]'\n",
    "pattern = re.compile (r'\\s*\\([^)]*\\)')\n",
    "result = re.sub(r\"[()]\", \" \", string)\n",
    "print (result)"
   ]
  },
  {
   "cell_type": "code",
   "execution_count": 38,
   "id": "17367dee",
   "metadata": {},
   "outputs": [],
   "source": [
    "#Question-6) Write a python program to remove the parenthesis area from the text stored in the text file using Regular Expression.\n",
    "##i was not able to solve this questions as i have yet to study the concept of how to store the data in text file."
   ]
  },
  {
   "cell_type": "code",
   "execution_count": 68,
   "id": "2c2ea6f2",
   "metadata": {},
   "outputs": [
    {
     "name": "stdout",
     "output_type": "stream",
     "text": [
      "['', 'Importance', 'Of', 'Regular', 'Expressions', 'In', 'Python']\n"
     ]
    }
   ],
   "source": [
    "#Question-7)Write a regular expression in Python to split a string into uppercase letters.\n",
    "import re\n",
    "sample='ImportanceOfRegularExpressionsInPython'\n",
    "pattern=r'(?=[A-Z])'\n",
    "result=re.split(pattern,sample)\n",
    "print(result)\n"
   ]
  },
  {
   "cell_type": "code",
   "execution_count": 72,
   "id": "7f5c6e88",
   "metadata": {},
   "outputs": [
    {
     "name": "stdout",
     "output_type": "stream",
     "text": [
      "RegularExpression 1IsAn 2ImportantTopic 3InPython\n"
     ]
    }
   ],
   "source": [
    "#Question-8)Create a function in python to insert spaces between words starting with numbers.\n",
    "import re\n",
    "Sample_Text= \"RegularExpression1IsAn2ImportantTopic3InPython\"\n",
    "pattern= r'(?=\\d)'\n",
    "result= re.sub (pattern,' ', string)\n",
    "print (result)\n",
    "\n"
   ]
  },
  {
   "cell_type": "code",
   "execution_count": 6,
   "id": "a503fa8f",
   "metadata": {},
   "outputs": [
    {
     "name": "stdout",
     "output_type": "stream",
     "text": [
      "Regular Expression 1 Is An 2 Important Topic 3 In Python\n"
     ]
    }
   ],
   "source": [
    "#Question 9 Create a function in python to insert spaces between words starting with capital letters or with numbers\n",
    "string='RegularExpression1IsAn2ImportantTopic3InPython'\n",
    "pattern=r'(?<=[0-9A-Z])(?=[A-Z])|(?<=[a-z0-9])(?=[0-9A-Z])'\n",
    "result= re.sub (pattern,' ',string)\n",
    "print (result)"
   ]
  },
  {
   "cell_type": "code",
   "execution_count": 74,
   "id": "15d272fa",
   "metadata": {},
   "outputs": [],
   "source": [
    "#Question 10 Write a python program to extract email address from the text stored in the text file using Regular Expression\n",
    "##i was not able to solve this questions as i have yet to study the concept of how to store the data in text file."
   ]
  },
  {
   "cell_type": "code",
   "execution_count": 7,
   "id": "8a8d0ab8",
   "metadata": {},
   "outputs": [
    {
     "name": "stdout",
     "output_type": "stream",
     "text": [
      "FlipRobo\n",
      "FLIPROBO\n",
      "fliprobo\n",
      "fliprobo123\n",
      "123456\n",
      "flip_robo\n"
     ]
    }
   ],
   "source": [
    "#Question 11 Write a Python program to match a string that contains only upper and lowercase letters, numbers, and underscores.\n",
    "strings= ['FlipRobo', 'FLIPROBO', 'fliprobo', 'fliprobo123', '123456', 'flip_robo']\n",
    "pattern=re.compile(r'\\b[A-Za-z0-9_]+\\b')\n",
    "for i in strings:\n",
    "    result = pattern.findall(i)\n",
    "    for m in result:\n",
    "        print(m)"
   ]
  },
  {
   "cell_type": "code",
   "execution_count": 8,
   "id": "014c748d",
   "metadata": {},
   "outputs": [
    {
     "name": "stdout",
     "output_type": "stream",
     "text": [
      "<re.Match object; span=(0, 5), match='77abc'>\n",
      "<re.Match object; span=(0, 4), match='7def'>\n",
      "None\n",
      "None\n"
     ]
    }
   ],
   "source": [
    "#Question 12 Write a Python program where a string will start with a specific number. \n",
    "string= ['77abc', '7def','3ghi', '4jkl']\n",
    "pattern=(r'\\b[7a-z]+\\b')\n",
    "for i in string:\n",
    "    result = re.match (pattern, i)\n",
    "    print (result)"
   ]
  },
  {
   "cell_type": "code",
   "execution_count": 10,
   "id": "39003f54",
   "metadata": {},
   "outputs": [
    {
     "name": "stdout",
     "output_type": "stream",
     "text": [
      " 182.8.4.255\n"
     ]
    }
   ],
   "source": [
    "#Question 13- Write a Python program to remove leading zeros from an IP address.\n",
    "string= ' 182.08.004.255'\n",
    "pattern= '[0]'\n",
    "result= re.sub(pattern,'', string)\n",
    "print (result)"
   ]
  },
  {
   "cell_type": "code",
   "execution_count": 13,
   "id": "dff638d1",
   "metadata": {},
   "outputs": [],
   "source": [
    "#Question 14- Write a regular expression in python to match a date string in the form of Month name followed by day number and year stored in a text file.\n",
    "##i was not able to solve this questions as i have yet to study the concept of how to store the data in text file."
   ]
  },
  {
   "cell_type": "code",
   "execution_count": 113,
   "id": "70d67dc5",
   "metadata": {},
   "outputs": [
    {
     "name": "stdout",
     "output_type": "stream",
     "text": [
      "['fox', 'dog']\n"
     ]
    }
   ],
   "source": [
    "#Question 15- Write a Python program to search some literals strings in a string.\n",
    "string= 'The quick brown fox jumps over the lazy dog.'\n",
    "pattern= r'\\bfox|dog|horse\\b'\n",
    "result= re.findall(pattern, string)\n",
    "print (result)"
   ]
  },
  {
   "cell_type": "code",
   "execution_count": 121,
   "id": "c14f183a",
   "metadata": {},
   "outputs": [
    {
     "name": "stdout",
     "output_type": "stream",
     "text": [
      "<re.Match object; span=(16, 19), match='fox'>\n"
     ]
    }
   ],
   "source": [
    "#Question 16- Write a Python program to search a literals string in a string and also find the location within the original string where the pattern occurs.\n",
    "string='The quick brown fox jumps over the lazy dog.'\n",
    "pattern= 'fox'\n",
    "result = re.finditer(pattern, string)\n",
    "for i in result:\n",
    "    print(i)\n",
    "\n",
    "    "
   ]
  },
  {
   "cell_type": "code",
   "execution_count": 14,
   "id": "e437249b",
   "metadata": {},
   "outputs": [
    {
     "name": "stdout",
     "output_type": "stream",
     "text": [
      "['exercises', 'exercises', 'exercises']\n"
     ]
    }
   ],
   "source": [
    "#Question 17- Write a Python program to find the substrings within a string.\n",
    "string = 'Python exercises, PHP exercises, C# exercises'\n",
    "pattern = 'exercises'\n",
    "result = re.findall(pattern, string)\n",
    "print (result)"
   ]
  },
  {
   "cell_type": "code",
   "execution_count": 19,
   "id": "16f88ed0",
   "metadata": {},
   "outputs": [
    {
     "name": "stdout",
     "output_type": "stream",
     "text": [
      "<re.Match object; span=(4, 9), match='shell'>\n",
      "<re.Match object; span=(14, 19), match='shell'>\n"
     ]
    }
   ],
   "source": [
    "#Question 18- Write a Python program to find the occurrence and position of the substrings within a string.\n",
    "string='see shell,sea shell on the,see shore'\n",
    "pattern= 'shell'\n",
    "result= re.finditer (pattern, string)\n",
    "for i in result:\n",
    "    print(i)"
   ]
  },
  {
   "cell_type": "code",
   "execution_count": 135,
   "id": "3fbf65cf",
   "metadata": {},
   "outputs": [
    {
     "name": "stdout",
     "output_type": "stream",
     "text": [
      "2022-2-22\n",
      "22-2-2022\n"
     ]
    }
   ],
   "source": [
    "#Question 19- Write a Python program to convert a date of yyyy-mm-dd format to dd-mm-yyyy format.\n",
    "yyyy_mm_dd='2022-2-22'\n",
    "yyyy, mm, dd= yyyy_mm_dd.split('-')\n",
    "date_converted= f\"{dd}-{mm}-{yyyy}\"\n",
    "print (yyyy_mm_dd)\n",
    "print (date_converted)"
   ]
  },
  {
   "cell_type": "code",
   "execution_count": 136,
   "id": "58807ad0",
   "metadata": {},
   "outputs": [
    {
     "name": "stdout",
     "output_type": "stream",
     "text": [
      "['4.66', '20.22', '4.5']\n"
     ]
    }
   ],
   "source": [
    "#Question 20- Create a function in python to find all decimal numbers with a precision of 1 or 2 in a string. The use of the re.compile() method is mandatory.\n",
    "string= '23.333, 4.66,2,20,20.22,7,4.5'\n",
    "pattern=re.compile(r'\\b\\d+\\.\\d{1,2}\\b')\n",
    "result= pattern.findall (string)\n",
    "print (result)"
   ]
  },
  {
   "cell_type": "code",
   "execution_count": 64,
   "id": "e878584e",
   "metadata": {},
   "outputs": [
    {
     "name": "stdout",
     "output_type": "stream",
     "text": [
      "45 START: 6 END: 8\n",
      "47 START: 15 END: 17\n"
     ]
    }
   ],
   "source": [
    "#Question 21- Write a Python program to separate and print the numbers and their position of a given string.\n",
    "string = 'great,45,since,47'\n",
    "pattern = r'\\d+(\\.\\d{1,2})?'\n",
    "result = re.finditer(pattern, string)\n",
    "\n",
    "for find in result:\n",
    "    start = find.start()\n",
    "    end = find.end()\n",
    "    value= find.group()\n",
    "    print(value,\"START:\", start,\"END:\", end)"
   ]
  },
  {
   "cell_type": "code",
   "execution_count": 69,
   "id": "bea85040",
   "metadata": {},
   "outputs": [
    {
     "name": "stdout",
     "output_type": "stream",
     "text": [
      "6888\n"
     ]
    }
   ],
   "source": [
    "#Question 22- Write a regular expression in python program to extract maximum/largest numeric value from a string.\n",
    "sample= 'out of 243,354,56,677,6888,688 which is the largest number?'\n",
    "pattern= r'\\d+'\n",
    "result= re.findall (pattern, sample) \n",
    "if result:\n",
    "    maximum_number= max(result)\n",
    "    print (maximum_number)"
   ]
  },
  {
   "cell_type": "code",
   "execution_count": 91,
   "id": "487092cb",
   "metadata": {},
   "outputs": [
    {
     "name": "stdout",
     "output_type": "stream",
     "text": [
      "“Regular Expression Is An Important Topic In Python\"\n"
     ]
    }
   ],
   "source": [
    "#Question 23- Create a function in python to insert spaces between words starting with capital letters.\n",
    "string='“RegularExpressionIsAnImportantTopicInPython\"'\n",
    "pattern = r'([a-z])([A-Z])'\n",
    "result = re.sub(pattern, r'\\1 \\2',string)\n",
    "print(result)\n"
   ]
  },
  {
   "cell_type": "code",
   "execution_count": 93,
   "id": "bf37901c",
   "metadata": {},
   "outputs": [
    {
     "name": "stdout",
     "output_type": "stream",
     "text": [
      "['Regular', 'Expressions', 'Important', 'Python']\n"
     ]
    }
   ],
   "source": [
    "#Question 24- Python regex to find sequences of one upper case letter followed by lower case letters\n",
    "string= 'Regular Expressions are Important in Python'\n",
    "pattern = r'[A-Z][a-z]+'\n",
    "result= re.findall (pattern, string)\n",
    "print (result)"
   ]
  },
  {
   "cell_type": "code",
   "execution_count": 95,
   "id": "65e6de91",
   "metadata": {},
   "outputs": [
    {
     "name": "stdout",
     "output_type": "stream",
     "text": [
      "Hello world\n"
     ]
    }
   ],
   "source": [
    "#Question 25- Write a Python program to remove continuous duplicate words from Sentence using Regular Expression.\n",
    "string= 'Hello Hello world world'\n",
    "pattern = r'\\b(\\w+)(\\s+\\1)+\\b'\n",
    "result = re.sub(pattern, r'\\1', string)\n",
    "print (result)"
   ]
  },
  {
   "cell_type": "code",
   "execution_count": 98,
   "id": "80e5a78f",
   "metadata": {},
   "outputs": [
    {
     "name": "stdout",
     "output_type": "stream",
     "text": [
      "<re.Match object; span=(0, 30), match='we are all in this together333'>\n"
     ]
    }
   ],
   "source": [
    "#Question 26- Write a python program using RegEx to accept string ending with alphanumeric character.\n",
    "string= 'we are all in this together333'\n",
    "pattern= r'^.*[A-Za-z0-9]$'\n",
    "result= re.match (pattern, string)\n",
    "print (result)"
   ]
  },
  {
   "cell_type": "code",
   "execution_count": 99,
   "id": "210b5ab5",
   "metadata": {},
   "outputs": [
    {
     "name": "stdout",
     "output_type": "stream",
     "text": [
      "['#Doltiwal', '#xyzabc', '#Demonetization']\n"
     ]
    }
   ],
   "source": [
    "#Question 27-Write a python program using RegEx to extract the hashtags.\n",
    "string= 'RT @kapil_kausik: #Doltiwal I mean #xyzabc is \"hurt\" by #Demonetization as the same has rendered USELESS \"acquired funds\" No wo'\n",
    "pattern = r'#\\w+' \n",
    "result = re.findall(pattern, string)\n",
    "print (result)"
   ]
  },
  {
   "cell_type": "code",
   "execution_count": 108,
   "id": "246fabe4",
   "metadata": {},
   "outputs": [
    {
     "name": "stdout",
     "output_type": "stream",
     "text": [
      "@Jags123456 Bharat band on 28??<ed><ed>Those who are protesting #demonetization are all different party leaders\n"
     ]
    }
   ],
   "source": [
    "#Question 28- Write a python program using RegEx to remove <U+..> like symbols\n",
    "string= '@Jags123456 Bharat band on 28??<ed><U+00BD><ed><U+00B8><U+0082>Those who are protesting #demonetization are all different party leaders'\n",
    "pattern = r'<U\\+[\\dA-Za-z]+>'\n",
    "result = re.sub (pattern, '', string)\n",
    "print (result)"
   ]
  },
  {
   "cell_type": "code",
   "execution_count": 12,
   "id": "8de7b886",
   "metadata": {},
   "outputs": [],
   "source": [
    "#question 29-Write a python program to extract dates from the text stored in the text file.\n",
    "#i was not able to solve this questions as i have yet to study the concept of how to store the data in text file."
   ]
  },
  {
   "cell_type": "code",
   "execution_count": 137,
   "id": "924d0fec",
   "metadata": {},
   "outputs": [
    {
     "name": "stdout",
     "output_type": "stream",
     "text": [
      " following example creates  ArrayList  a capacity   elements. 4 elements   added   ArrayList   ArrayList  trimmed accordingly.\n"
     ]
    }
   ],
   "source": [
    "#Question 30- Create a function in python to remove all words from a string of length between 2 and 4.The use of the re.compile() method is mandatory.\n",
    "string= 'The following example creates an ArrayList with a capacity of 50 elements. 4 elements are then added to the ArrayList and the ArrayList is trimmed accordingly.'\n",
    "pattern = re.compile(r'\\b\\w{2,4}\\b')\n",
    "result = re.sub(pattern,'', string)\n",
    "print (result)"
   ]
  }
 ],
 "metadata": {
  "kernelspec": {
   "display_name": "Python 3 (ipykernel)",
   "language": "python",
   "name": "python3"
  },
  "language_info": {
   "codemirror_mode": {
    "name": "ipython",
    "version": 3
   },
   "file_extension": ".py",
   "mimetype": "text/x-python",
   "name": "python",
   "nbconvert_exporter": "python",
   "pygments_lexer": "ipython3",
   "version": "3.9.13"
  }
 },
 "nbformat": 4,
 "nbformat_minor": 5
}
